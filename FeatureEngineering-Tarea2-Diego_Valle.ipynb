{
 "cells": [
  {
   "cell_type": "code",
   "execution_count": 1,
   "metadata": {
    "colab": {},
    "colab_type": "code",
    "id": "H10a6wWU-3Mo"
   },
   "outputs": [],
   "source": [
    "import numpy as np\n",
    "import pandas as pd\n",
    "from matplotlib import pyplot as plt\n",
    "from scipy.stats import norm\n",
    "from datetime import datetime as dt\n",
    "import tensorflow as tf\n",
    "#from pandas_datareader import data\n",
    "from sklearn import linear_model\n",
    "from sklearn.model_selection import train_test_split\n",
    "from sklearn.metrics import mean_squared_error\n",
    "%reload_ext tensorboard\n",
    "\n",
    "#tensorboard.__version__"
   ]
  },
  {
   "cell_type": "code",
   "execution_count": 2,
   "metadata": {},
   "outputs": [
    {
     "name": "stdout",
     "output_type": "stream",
     "text": [
      "WARNING:tensorflow:From C:\\Users\\diego\\AppData\\Local\\Continuum\\anaconda3\\lib\\site-packages\\tensorflow\\python\\compat\\v2_compat.py:96: disable_resource_variables (from tensorflow.python.ops.variable_scope) is deprecated and will be removed in a future version.\n",
      "Instructions for updating:\n",
      "non-resource variables are not supported in the long term\n",
      "Enabled compatitility to tf1.x\n"
     ]
    }
   ],
   "source": [
    "if tf.__version__.startswith(\"2.\"):\n",
    "  import tensorflow.compat.v1 as tf\n",
    "  tf.compat.v1.disable_v2_behavior()\n",
    "  tf.compat.v1.disable_eager_execution()\n",
    "  print(\"Enabled compatitility to tf1.x\")"
   ]
  },
  {
   "cell_type": "markdown",
   "metadata": {
    "colab_type": "text",
    "id": "PEZzgXuZd1-s"
   },
   "source": [
    "## Usando feature-eng para crear un modelo exponencial de Covid-19\n",
    "\n",
    "**Content**\n",
    "\n",
    "Each row contains report from each region/location for each day\n",
    "Each column represents the number of cases reported from each country/region\n",
    "\n",
    "\n",
    "**Acknowledgements**\n",
    "\n",
    "https://github.com/CSSEGISandData/COVID-19\n"
   ]
  },
  {
   "cell_type": "code",
   "execution_count": null,
   "metadata": {
    "colab": {
     "base_uri": "https://localhost:8080/",
     "height": 419
    },
    "colab_type": "code",
    "executionInfo": {
     "elapsed": 537,
     "status": "ok",
     "timestamp": 1590018863589,
     "user": {
      "displayName": "José Sebastian Rodríguez Velásquez",
      "photoUrl": "",
      "userId": "16189951149660085343"
     },
     "user_tz": 360
    },
    "id": "3l2WjUmOcNeq",
    "outputId": "cca63d70-8c2e-4037-8bd8-e661563d0ee5"
   },
   "outputs": [],
   "source": [
    "covid19_data = pd.read_csv('https://raw.githubusercontent.com/imdevskp/covid_19_jhu_data_web_scrap_and_cleaning/master/covid_19_clean_complete.csv')\n",
    "covid19_data[\"Date\"] = pd.to_datetime(covid19_data[\"Date\"],infer_datetime_format = True)\n",
    "iniciopandemia = covid19_data[\"Date\"].min()\n",
    "\n",
    "covid19_data[\"dias\"]=covid19_data[\"Date\"]-iniciopandemia\n",
    "covid19_data.head(100)\n"
   ]
  },
  {
   "cell_type": "code",
   "execution_count": null,
   "metadata": {
    "colab": {
     "base_uri": "https://localhost:8080/",
     "height": 170
    },
    "colab_type": "code",
    "executionInfo": {
     "elapsed": 1260,
     "status": "ok",
     "timestamp": 1590016570127,
     "user": {
      "displayName": "José Sebastian Rodríguez Velásquez",
      "photoUrl": "",
      "userId": "16189951149660085343"
     },
     "user_tz": 360
    },
    "id": "2V9hWjQnk1rX",
    "outputId": "adf16e5a-7a19-4499-fe5c-cc590c2ac093"
   },
   "outputs": [],
   "source": [
    "covid19_data.dtypes"
   ]
  },
  {
   "cell_type": "code",
   "execution_count": null,
   "metadata": {
    "colab": {
     "base_uri": "https://localhost:8080/",
     "height": 296
    },
    "colab_type": "code",
    "executionInfo": {
     "elapsed": 1557,
     "status": "ok",
     "timestamp": 1590016570433,
     "user": {
      "displayName": "José Sebastian Rodríguez Velásquez",
      "photoUrl": "",
      "userId": "16189951149660085343"
     },
     "user_tz": 360
    },
    "id": "p2bYMEzfcXYI",
    "outputId": "56426483-95b9-438f-f914-3cd3b85426ad"
   },
   "outputs": [],
   "source": [
    "GT_confirmed = covid19_data[(covid19_data[\"Country/Region\"] == 'Guatemala') & (covid19_data[\"Confirmed\"] > 0)].copy()\n",
    "plt.scatter(x = GT_confirmed[\"Date\"],y=\"Confirmed\")"
   ]
  },
  {
   "cell_type": "code",
   "execution_count": null,
   "metadata": {
    "colab": {
     "base_uri": "https://localhost:8080/",
     "height": 299
    },
    "colab_type": "code",
    "executionInfo": {
     "elapsed": 1746,
     "status": "ok",
     "timestamp": 1590016570631,
     "user": {
      "displayName": "José Sebastian Rodríguez Velásquez",
      "photoUrl": "",
      "userId": "16189951149660085343"
     },
     "user_tz": 360
    },
    "id": "Hfu0Gemeg-XM",
    "outputId": "91103c50-bf7c-4c79-8aae-55037be25968"
   },
   "outputs": [],
   "source": [
    "GT_confirmed[\"ln(confirmed)\"] = np.log(GT_confirmed[\"Confirmed\"])\n",
    "GT_confirmed.plot.scatter(x = \"Date\",y=\"ln(confirmed)\")\n"
   ]
  },
  {
   "cell_type": "code",
   "execution_count": null,
   "metadata": {
    "colab": {
     "base_uri": "https://localhost:8080/",
     "height": 1000
    },
    "colab_type": "code",
    "executionInfo": {
     "elapsed": 1739,
     "status": "ok",
     "timestamp": 1590016570632,
     "user": {
      "displayName": "José Sebastian Rodríguez Velásquez",
      "photoUrl": "",
      "userId": "16189951149660085343"
     },
     "user_tz": 360
    },
    "id": "Hed_qt-FfoWS",
    "outputId": "3023990d-a7f2-490b-dc46-a869d4af8a84"
   },
   "outputs": [],
   "source": [
    "GT_confirmed.head(20)"
   ]
  },
  {
   "cell_type": "code",
   "execution_count": null,
   "metadata": {
    "colab": {
     "base_uri": "https://localhost:8080/",
     "height": 296
    },
    "colab_type": "code",
    "executionInfo": {
     "elapsed": 2061,
     "status": "ok",
     "timestamp": 1590016570965,
     "user": {
      "displayName": "José Sebastian Rodríguez Velásquez",
      "photoUrl": "",
      "userId": "16189951149660085343"
     },
     "user_tz": 360
    },
    "id": "mwYGLCmijQze",
    "outputId": "af94f153-020a-47a4-f544-dcb92f9feca1"
   },
   "outputs": [],
   "source": [
    "GT_confirmed_post24 = GT_confirmed[GT_confirmed.Date >= '2020-03-22']\n",
    "GT_confirmed_post24.plot.scatter(x = \"Date\",y=\"ln(confirmed)\")"
   ]
  },
  {
   "cell_type": "code",
   "execution_count": null,
   "metadata": {
    "colab": {},
    "colab_type": "code",
    "id": "7S2Q8rcbkhxc"
   },
   "outputs": [],
   "source": [
    "#import datetime as dt\n",
    "#GT_confirmed['Date'] = pd.to_datetime(GT_confirmed['Date'])\n",
    "#GT_confirmed['Date']=GT_confirmed['Date'].map(dt.datetime.toordinal)\n",
    "#feature_cols = [tf.feature_column.numeric_column('Date') for \"Date\" in GT_confirmed]\n",
    "#GT_confirmed.head()\n",
    "\n",
    "codi19\n",
    "\n",
    "\n"
   ]
  },
  {
   "cell_type": "code",
   "execution_count": null,
   "metadata": {
    "colab": {
     "base_uri": "https://localhost:8080/",
     "height": 187
    },
    "colab_type": "code",
    "executionInfo": {
     "elapsed": 416,
     "status": "ok",
     "timestamp": 1590017408454,
     "user": {
      "displayName": "José Sebastian Rodríguez Velásquez",
      "photoUrl": "",
      "userId": "16189951149660085343"
     },
     "user_tz": 360
    },
    "id": "stRvEPz8PWmP",
    "outputId": "81e525aa-e93d-4c54-ec44-2468b7257ec9"
   },
   "outputs": [],
   "source": [
    "GT_confirmed.dtypes"
   ]
  },
  {
   "cell_type": "markdown",
   "metadata": {
    "colab": {},
    "colab_type": "code",
    "id": "9J-etcjcYCEk"
   },
   "source": [
    "#### PARTE 2: MODELO PARA CALIDAD DE VINOS\n",
    "Se procede a cargar en datos la información contenida en el CSV."
   ]
  },
  {
   "cell_type": "code",
   "execution_count": 22,
   "metadata": {},
   "outputs": [
    {
     "data": {
      "text/html": [
       "<div>\n",
       "<style scoped>\n",
       "    .dataframe tbody tr th:only-of-type {\n",
       "        vertical-align: middle;\n",
       "    }\n",
       "\n",
       "    .dataframe tbody tr th {\n",
       "        vertical-align: top;\n",
       "    }\n",
       "\n",
       "    .dataframe thead th {\n",
       "        text-align: right;\n",
       "    }\n",
       "</style>\n",
       "<table border=\"1\" class=\"dataframe\">\n",
       "  <thead>\n",
       "    <tr style=\"text-align: right;\">\n",
       "      <th></th>\n",
       "      <th>fixed acidity</th>\n",
       "      <th>volatile acidity</th>\n",
       "      <th>citric acid</th>\n",
       "      <th>residual sugar</th>\n",
       "      <th>chlorides</th>\n",
       "      <th>free sulfur dioxide</th>\n",
       "      <th>total sulfur dioxide</th>\n",
       "      <th>density</th>\n",
       "      <th>pH</th>\n",
       "      <th>sulphates</th>\n",
       "      <th>alcohol</th>\n",
       "      <th>quality</th>\n",
       "    </tr>\n",
       "  </thead>\n",
       "  <tbody>\n",
       "    <tr>\n",
       "      <td>0</td>\n",
       "      <td>7.4</td>\n",
       "      <td>0.70</td>\n",
       "      <td>0.00</td>\n",
       "      <td>1.9</td>\n",
       "      <td>0.076</td>\n",
       "      <td>11.0</td>\n",
       "      <td>34.0</td>\n",
       "      <td>0.9978</td>\n",
       "      <td>3.51</td>\n",
       "      <td>0.56</td>\n",
       "      <td>9.4</td>\n",
       "      <td>5</td>\n",
       "    </tr>\n",
       "    <tr>\n",
       "      <td>1</td>\n",
       "      <td>7.8</td>\n",
       "      <td>0.88</td>\n",
       "      <td>0.00</td>\n",
       "      <td>2.6</td>\n",
       "      <td>0.098</td>\n",
       "      <td>25.0</td>\n",
       "      <td>67.0</td>\n",
       "      <td>0.9968</td>\n",
       "      <td>3.20</td>\n",
       "      <td>0.68</td>\n",
       "      <td>9.8</td>\n",
       "      <td>5</td>\n",
       "    </tr>\n",
       "    <tr>\n",
       "      <td>2</td>\n",
       "      <td>7.8</td>\n",
       "      <td>0.76</td>\n",
       "      <td>0.04</td>\n",
       "      <td>2.3</td>\n",
       "      <td>0.092</td>\n",
       "      <td>15.0</td>\n",
       "      <td>54.0</td>\n",
       "      <td>0.9970</td>\n",
       "      <td>3.26</td>\n",
       "      <td>0.65</td>\n",
       "      <td>9.8</td>\n",
       "      <td>5</td>\n",
       "    </tr>\n",
       "    <tr>\n",
       "      <td>3</td>\n",
       "      <td>11.2</td>\n",
       "      <td>0.28</td>\n",
       "      <td>0.56</td>\n",
       "      <td>1.9</td>\n",
       "      <td>0.075</td>\n",
       "      <td>17.0</td>\n",
       "      <td>60.0</td>\n",
       "      <td>0.9980</td>\n",
       "      <td>3.16</td>\n",
       "      <td>0.58</td>\n",
       "      <td>9.8</td>\n",
       "      <td>6</td>\n",
       "    </tr>\n",
       "    <tr>\n",
       "      <td>4</td>\n",
       "      <td>7.4</td>\n",
       "      <td>0.70</td>\n",
       "      <td>0.00</td>\n",
       "      <td>1.9</td>\n",
       "      <td>0.076</td>\n",
       "      <td>11.0</td>\n",
       "      <td>34.0</td>\n",
       "      <td>0.9978</td>\n",
       "      <td>3.51</td>\n",
       "      <td>0.56</td>\n",
       "      <td>9.4</td>\n",
       "      <td>5</td>\n",
       "    </tr>\n",
       "  </tbody>\n",
       "</table>\n",
       "</div>"
      ],
      "text/plain": [
       "   fixed acidity  volatile acidity  citric acid  residual sugar  chlorides  \\\n",
       "0            7.4              0.70         0.00             1.9      0.076   \n",
       "1            7.8              0.88         0.00             2.6      0.098   \n",
       "2            7.8              0.76         0.04             2.3      0.092   \n",
       "3           11.2              0.28         0.56             1.9      0.075   \n",
       "4            7.4              0.70         0.00             1.9      0.076   \n",
       "\n",
       "   free sulfur dioxide  total sulfur dioxide  density    pH  sulphates  \\\n",
       "0                 11.0                  34.0   0.9978  3.51       0.56   \n",
       "1                 25.0                  67.0   0.9968  3.20       0.68   \n",
       "2                 15.0                  54.0   0.9970  3.26       0.65   \n",
       "3                 17.0                  60.0   0.9980  3.16       0.58   \n",
       "4                 11.0                  34.0   0.9978  3.51       0.56   \n",
       "\n",
       "   alcohol  quality  \n",
       "0      9.4        5  \n",
       "1      9.8        5  \n",
       "2      9.8        5  \n",
       "3      9.8        6  \n",
       "4      9.4        5  "
      ]
     },
     "execution_count": 22,
     "metadata": {},
     "output_type": "execute_result"
    }
   ],
   "source": [
    "datos= pd.read_csv(\"winequality-red.csv\")\n",
    "datos.head()"
   ]
  },
  {
   "cell_type": "markdown",
   "metadata": {},
   "source": [
    "Ahora se cargan los datos en dataset independientes, para X y para Y"
   ]
  },
  {
   "cell_type": "code",
   "execution_count": 8,
   "metadata": {},
   "outputs": [
    {
     "data": {
      "text/html": [
       "<div>\n",
       "<style scoped>\n",
       "    .dataframe tbody tr th:only-of-type {\n",
       "        vertical-align: middle;\n",
       "    }\n",
       "\n",
       "    .dataframe tbody tr th {\n",
       "        vertical-align: top;\n",
       "    }\n",
       "\n",
       "    .dataframe thead th {\n",
       "        text-align: right;\n",
       "    }\n",
       "</style>\n",
       "<table border=\"1\" class=\"dataframe\">\n",
       "  <thead>\n",
       "    <tr style=\"text-align: right;\">\n",
       "      <th></th>\n",
       "      <th>volatile acidity</th>\n",
       "      <th>alcohol</th>\n",
       "    </tr>\n",
       "  </thead>\n",
       "  <tbody>\n",
       "    <tr>\n",
       "      <td>0</td>\n",
       "      <td>0.70</td>\n",
       "      <td>9.4</td>\n",
       "    </tr>\n",
       "    <tr>\n",
       "      <td>1</td>\n",
       "      <td>0.88</td>\n",
       "      <td>9.8</td>\n",
       "    </tr>\n",
       "    <tr>\n",
       "      <td>2</td>\n",
       "      <td>0.76</td>\n",
       "      <td>9.8</td>\n",
       "    </tr>\n",
       "    <tr>\n",
       "      <td>3</td>\n",
       "      <td>0.28</td>\n",
       "      <td>9.8</td>\n",
       "    </tr>\n",
       "    <tr>\n",
       "      <td>4</td>\n",
       "      <td>0.70</td>\n",
       "      <td>9.4</td>\n",
       "    </tr>\n",
       "  </tbody>\n",
       "</table>\n",
       "</div>"
      ],
      "text/plain": [
       "   volatile acidity  alcohol\n",
       "0              0.70      9.4\n",
       "1              0.88      9.8\n",
       "2              0.76      9.8\n",
       "3              0.28      9.8\n",
       "4              0.70      9.4"
      ]
     },
     "execution_count": 8,
     "metadata": {},
     "output_type": "execute_result"
    }
   ],
   "source": [
    "datosY = datos[['quality']]\n",
    "datosX = datos[['volatile acidity', 'alcohol']]\n",
    "\n",
    "datosX.head()"
   ]
  },
  {
   "cell_type": "markdown",
   "metadata": {},
   "source": [
    "Ahora se graficarán los datos para comprender mejor el dataset."
   ]
  },
  {
   "cell_type": "code",
   "execution_count": 9,
   "metadata": {},
   "outputs": [
    {
     "data": {
      "text/plain": [
       "<matplotlib.collections.PathCollection at 0x22d5b432588>"
      ]
     },
     "execution_count": 9,
     "metadata": {},
     "output_type": "execute_result"
    },
    {
     "data": {
      "image/png": "[encoded data removed]",
      "text/plain": [
       "<Figure size 432x288 with 1 Axes>"
      ]
     },
     "metadata": {
      "needs_background": "light"
     },
     "output_type": "display_data"
    }
   ],
   "source": [
    "plt.scatter(datosX['alcohol'], datosY)"
   ]
  },
  {
   "cell_type": "code",
   "execution_count": 10,
   "metadata": {},
   "outputs": [
    {
     "data": {
      "text/plain": [
       "<matplotlib.collections.PathCollection at 0x22d5b4cb7c8>"
      ]
     },
     "execution_count": 10,
     "metadata": {},
     "output_type": "execute_result"
    },
    {
     "data": {
      "image/png": "[encoded data removed]",
      "text/plain": [
       "<Figure size 432x288 with 1 Axes>"
      ]
     },
     "metadata": {
      "needs_background": "light"
     },
     "output_type": "display_data"
    }
   ],
   "source": [
    "plt.scatter(datosX['volatile acidity'], datosY)"
   ]
  },
  {
   "cell_type": "markdown",
   "metadata": {},
   "source": [
    "Ahora se generará la tabla que contiene **a**, **b**, **a^2**, **b^2** y **ab**"
   ]
  },
  {
   "cell_type": "code",
   "execution_count": 11,
   "metadata": {},
   "outputs": [
    {
     "data": {
      "text/html": [
       "<div>\n",
       "<style scoped>\n",
       "    .dataframe tbody tr th:only-of-type {\n",
       "        vertical-align: middle;\n",
       "    }\n",
       "\n",
       "    .dataframe tbody tr th {\n",
       "        vertical-align: top;\n",
       "    }\n",
       "\n",
       "    .dataframe thead th {\n",
       "        text-align: right;\n",
       "    }\n",
       "</style>\n",
       "<table border=\"1\" class=\"dataframe\">\n",
       "  <thead>\n",
       "    <tr style=\"text-align: right;\">\n",
       "      <th></th>\n",
       "      <th></th>\n",
       "      <th>a</th>\n",
       "      <th>b</th>\n",
       "      <th>ab</th>\n",
       "      <th>a^2</th>\n",
       "      <th>b^2</th>\n",
       "    </tr>\n",
       "  </thead>\n",
       "  <tbody>\n",
       "    <tr>\n",
       "      <td>0</td>\n",
       "      <td>1</td>\n",
       "      <td>0.70</td>\n",
       "      <td>9.4</td>\n",
       "      <td>6.580</td>\n",
       "      <td>0.4900</td>\n",
       "      <td>88.36</td>\n",
       "    </tr>\n",
       "    <tr>\n",
       "      <td>1</td>\n",
       "      <td>1</td>\n",
       "      <td>0.88</td>\n",
       "      <td>9.8</td>\n",
       "      <td>8.624</td>\n",
       "      <td>0.7744</td>\n",
       "      <td>96.04</td>\n",
       "    </tr>\n",
       "    <tr>\n",
       "      <td>2</td>\n",
       "      <td>1</td>\n",
       "      <td>0.76</td>\n",
       "      <td>9.8</td>\n",
       "      <td>7.448</td>\n",
       "      <td>0.5776</td>\n",
       "      <td>96.04</td>\n",
       "    </tr>\n",
       "    <tr>\n",
       "      <td>3</td>\n",
       "      <td>1</td>\n",
       "      <td>0.28</td>\n",
       "      <td>9.8</td>\n",
       "      <td>2.744</td>\n",
       "      <td>0.0784</td>\n",
       "      <td>96.04</td>\n",
       "    </tr>\n",
       "    <tr>\n",
       "      <td>4</td>\n",
       "      <td>1</td>\n",
       "      <td>0.70</td>\n",
       "      <td>9.4</td>\n",
       "      <td>6.580</td>\n",
       "      <td>0.4900</td>\n",
       "      <td>88.36</td>\n",
       "    </tr>\n",
       "  </tbody>\n",
       "</table>\n",
       "</div>"
      ],
      "text/plain": [
       "         a    b     ab     a^2    b^2\n",
       "0  1  0.70  9.4  6.580  0.4900  88.36\n",
       "1  1  0.88  9.8  8.624  0.7744  96.04\n",
       "2  1  0.76  9.8  7.448  0.5776  96.04\n",
       "3  1  0.28  9.8  2.744  0.0784  96.04\n",
       "4  1  0.70  9.4  6.580  0.4900  88.36"
      ]
     },
     "execution_count": 11,
     "metadata": {},
     "output_type": "execute_result"
    }
   ],
   "source": [
    "xEnt = datosX.copy()\n",
    "yEnt = datosY.copy()\n",
    "xEnt.columns=['a', 'b']\n",
    "xEnt['ab'] = xEnt['a']*xEnt['b']\n",
    "xEnt['a^2'] = xEnt['a']*xEnt['a']\n",
    "xEnt['b^2'] = xEnt['b']*xEnt['b']\n",
    "xEnt.insert(0,'',1)\n",
    "\n",
    "pol = xEnt.shape[1]\n",
    "xEnt.head()"
   ]
  },
  {
   "cell_type": "markdown",
   "metadata": {},
   "source": [
    "A continuación, se procede a definir el grafo"
   ]
  },
  {
   "cell_type": "code",
   "execution_count": 12,
   "metadata": {},
   "outputs": [],
   "source": [
    "tf.reset_default_graph()\n",
    "g = tf.Graph()\n",
    "with g.as_default():\n",
    "    xplace = tf.placeholder(tf.float32, shape = (None, pol), name = \"X\")\n",
    "    yplace = tf.placeholder(tf.float32, shape = (None, 1), name = \"Y\")\n",
    "\n",
    "    lr = tf.placeholder(tf.float32, name = \"lr\")\n",
    "\n",
    "    W = tf.Variable(tf.zeros([pol, 1], tf.float32), name = \"W\")\n",
    "\n",
    "    with tf.name_scope(\"Hipotesis\"):\n",
    "        Yhat = tf.matmul(xplace, W, name = \"Diferencia_Y\") \n",
    "        \n",
    "    with tf.name_scope(\"Costo\"):\n",
    "        cost = tf.divide( tf.reduce_mean(tf.pow(Yhat-yplace, 2)), 2., name=\"fCosto\")\n",
    "\n",
    "    with tf.name_scope(\"Gradient_Descent\"):\n",
    "        optimizer = tf.train.GradientDescentOptimizer(lr).minimize(cost)\n",
    "        costSummary = tf.summary.scalar(name='FuncionDeCosto', tensor = cost)\n",
    "    init = tf.global_variables_initializer()"
   ]
  },
  {
   "cell_type": "markdown",
   "metadata": {},
   "source": [
    "Ahora se hace una función que permita ejecutar la sesión a través de un procedimiento."
   ]
  },
  {
   "cell_type": "code",
   "execution_count": 13,
   "metadata": {},
   "outputs": [],
   "source": [
    "logs_dir = r\"C:\\Users\\diego\\StatisticalLearning\\Practica2\\practica2-StadisticalLearning\\logs\"\n",
    "\n",
    "def entrenamiento(x, y, training_epochs, learning_rate,n):\n",
    "    with tf.Session(graph = g) as sess: \n",
    "        writer = tf.summary.FileWriter(logs_dir, sess.graph)        \n",
    "        sess.run(init) \n",
    "        print(\"USANDO UN LR DE \", learning_rate, \":\")\n",
    "        for epoch in range(training_epochs): \n",
    "            _, summary = sess.run([optimizer, costSummary], feed_dict = {xplace: xEnt, yplace: yEnt, lr : learning_rate})\n",
    "            writer.add_summary(summary, epoch+1)\n",
    "            if (epoch + 1) % n == 0: \n",
    "                c, weights = sess.run([cost, W], feed_dict = {xplace : x, yplace : y}) \n",
    "                print(\"Epoch:\", (epoch + 1), \"\\t Grado_de_Polinomio=\", pol,\"\\t Valor_Costo=\", c, \"\\t Muestra_W=\", weights[:3,0]) \n",
    "        writer.close()\n",
    "        \n",
    "        finalCost = sess.run(cost, feed_dict ={xplace: xEnt, yplace: yEnt}) \n",
    "        weights = sess.run(W)        \n",
    "    return (weights)"
   ]
  },
  {
   "cell_type": "markdown",
   "metadata": {},
   "source": [
    "A continuación se procede a entrenar el modelo lineal que se usará."
   ]
  },
  {
   "cell_type": "code",
   "execution_count": 14,
   "metadata": {},
   "outputs": [
    {
     "name": "stdout",
     "output_type": "stream",
     "text": [
      "USANDO UN LR DE  0.0001 :\n",
      "Epoch: 30 \t Grado_de_Polinomio= 6 \t Valor_Costo= 0.55953723 \t Muestra_W= [0.00091392 0.00043177 0.00718594]\n",
      "Epoch: 60 \t Grado_de_Polinomio= 6 \t Valor_Costo= 0.5568993 \t Muestra_W= [0.00139531 0.00063713 0.00977986]\n",
      "Epoch: 90 \t Grado_de_Polinomio= 6 \t Valor_Costo= 0.5542979 \t Muestra_W= [0.0018743  0.0008399  0.01236085]\n",
      "Epoch: 120 \t Grado_de_Polinomio= 6 \t Valor_Costo= 0.5517324 \t Muestra_W= [0.0023509  0.00104013 0.01492902]\n",
      "Epoch: 150 \t Grado_de_Polinomio= 6 \t Valor_Costo= 0.5492015 \t Muestra_W= [0.00282513 0.00123785 0.0174845 ]\n",
      "Epoch: 180 \t Grado_de_Polinomio= 6 \t Valor_Costo= 0.5467047 \t Muestra_W= [0.00329702 0.00143309 0.02002738]\n",
      "Epoch: 210 \t Grado_de_Polinomio= 6 \t Valor_Costo= 0.5442413 \t Muestra_W= [0.00376659 0.0016259  0.02255781]\n",
      "Epoch: 240 \t Grado_de_Polinomio= 6 \t Valor_Costo= 0.5418105 \t Muestra_W= [0.00423386 0.0018163  0.02507587]\n",
      "Epoch: 270 \t Grado_de_Polinomio= 6 \t Valor_Costo= 0.5394115 \t Muestra_W= [0.00469885 0.00200433 0.02758169]\n",
      "Epoch: 300 \t Grado_de_Polinomio= 6 \t Valor_Costo= 0.5370436 \t Muestra_W= [0.00516158 0.00219001 0.03007537]\n"
     ]
    }
   ],
   "source": [
    "pesos = entrenamiento(xEnt, yEnt, 300, 0.0001, 30)"
   ]
  },
  {
   "cell_type": "markdown",
   "metadata": {},
   "source": [
    "Ahora se generará una nueva tabla donde se trabaja el modelo cúbico"
   ]
  },
  {
   "cell_type": "code",
   "execution_count": 15,
   "metadata": {},
   "outputs": [
    {
     "data": {
      "text/html": [
       "<div>\n",
       "<style scoped>\n",
       "    .dataframe tbody tr th:only-of-type {\n",
       "        vertical-align: middle;\n",
       "    }\n",
       "\n",
       "    .dataframe tbody tr th {\n",
       "        vertical-align: top;\n",
       "    }\n",
       "\n",
       "    .dataframe thead th {\n",
       "        text-align: right;\n",
       "    }\n",
       "</style>\n",
       "<table border=\"1\" class=\"dataframe\">\n",
       "  <thead>\n",
       "    <tr style=\"text-align: right;\">\n",
       "      <th></th>\n",
       "      <th></th>\n",
       "      <th>a</th>\n",
       "      <th>b</th>\n",
       "      <th>ab</th>\n",
       "      <th>a^2</th>\n",
       "      <th>b^2</th>\n",
       "      <th>ab^2</th>\n",
       "      <th>ba^2</th>\n",
       "      <th>a^3</th>\n",
       "      <th>b^3</th>\n",
       "    </tr>\n",
       "  </thead>\n",
       "  <tbody>\n",
       "    <tr>\n",
       "      <td>0</td>\n",
       "      <td>1</td>\n",
       "      <td>0.70</td>\n",
       "      <td>9.4</td>\n",
       "      <td>6.580</td>\n",
       "      <td>0.4900</td>\n",
       "      <td>88.36</td>\n",
       "      <td>61.8520</td>\n",
       "      <td>4.60600</td>\n",
       "      <td>0.343000</td>\n",
       "      <td>830.584</td>\n",
       "    </tr>\n",
       "    <tr>\n",
       "      <td>1</td>\n",
       "      <td>1</td>\n",
       "      <td>0.88</td>\n",
       "      <td>9.8</td>\n",
       "      <td>8.624</td>\n",
       "      <td>0.7744</td>\n",
       "      <td>96.04</td>\n",
       "      <td>84.5152</td>\n",
       "      <td>7.58912</td>\n",
       "      <td>0.681472</td>\n",
       "      <td>941.192</td>\n",
       "    </tr>\n",
       "    <tr>\n",
       "      <td>2</td>\n",
       "      <td>1</td>\n",
       "      <td>0.76</td>\n",
       "      <td>9.8</td>\n",
       "      <td>7.448</td>\n",
       "      <td>0.5776</td>\n",
       "      <td>96.04</td>\n",
       "      <td>72.9904</td>\n",
       "      <td>5.66048</td>\n",
       "      <td>0.438976</td>\n",
       "      <td>941.192</td>\n",
       "    </tr>\n",
       "    <tr>\n",
       "      <td>3</td>\n",
       "      <td>1</td>\n",
       "      <td>0.28</td>\n",
       "      <td>9.8</td>\n",
       "      <td>2.744</td>\n",
       "      <td>0.0784</td>\n",
       "      <td>96.04</td>\n",
       "      <td>26.8912</td>\n",
       "      <td>0.76832</td>\n",
       "      <td>0.021952</td>\n",
       "      <td>941.192</td>\n",
       "    </tr>\n",
       "    <tr>\n",
       "      <td>4</td>\n",
       "      <td>1</td>\n",
       "      <td>0.70</td>\n",
       "      <td>9.4</td>\n",
       "      <td>6.580</td>\n",
       "      <td>0.4900</td>\n",
       "      <td>88.36</td>\n",
       "      <td>61.8520</td>\n",
       "      <td>4.60600</td>\n",
       "      <td>0.343000</td>\n",
       "      <td>830.584</td>\n",
       "    </tr>\n",
       "  </tbody>\n",
       "</table>\n",
       "</div>"
      ],
      "text/plain": [
       "         a    b     ab     a^2    b^2     ab^2     ba^2       a^3      b^3\n",
       "0  1  0.70  9.4  6.580  0.4900  88.36  61.8520  4.60600  0.343000  830.584\n",
       "1  1  0.88  9.8  8.624  0.7744  96.04  84.5152  7.58912  0.681472  941.192\n",
       "2  1  0.76  9.8  7.448  0.5776  96.04  72.9904  5.66048  0.438976  941.192\n",
       "3  1  0.28  9.8  2.744  0.0784  96.04  26.8912  0.76832  0.021952  941.192\n",
       "4  1  0.70  9.4  6.580  0.4900  88.36  61.8520  4.60600  0.343000  830.584"
      ]
     },
     "execution_count": 15,
     "metadata": {},
     "output_type": "execute_result"
    }
   ],
   "source": [
    "xEntTf = xEnt.copy()\n",
    "xEntTf['ab^2'] = xEnt['a'] * xEnt['b^2']\n",
    "xEntTf['ba^2'] = xEnt['b'] * xEnt['a^2']\n",
    "xEntTf['a^3'] = xEnt['a'] ** 3\n",
    "xEntTf['b^3'] = xEnt['b'] ** 3\n",
    "pol = xEntTf.shape[1]\n",
    "\n",
    "xEntTf.head()"
   ]
  },
  {
   "cell_type": "markdown",
   "metadata": {},
   "source": [
    "Ahora iniciamos tensorboard con los datos del log de trabajo"
   ]
  },
  {
   "cell_type": "code",
   "execution_count": 16,
   "metadata": {},
   "outputs": [
    {
     "data": {
      "text/plain": [
       "Reusing TensorBoard on port 6061 (pid 21716), started 0:12:31 ago. (Use '!kill 21716' to kill it.)"
      ]
     },
     "metadata": {},
     "output_type": "display_data"
    },
    {
     "data": {
      "text/html": [
       "\n",
       "      <iframe id=\"tensorboard-frame-37484aa60b99b9e0\" width=\"100%\" height=\"800\" frameborder=\"0\">\n",
       "      </iframe>\n",
       "      <script>\n",
       "        (function() {\n",
       "          const frame = document.getElementById(\"tensorboard-frame-37484aa60b99b9e0\");\n",
       "          const url = new URL(\"/\", window.location);\n",
       "          url.port = 6061;\n",
       "          frame.src = url;\n",
       "        })();\n",
       "      </script>\n",
       "  "
      ],
      "text/plain": [
       "<IPython.core.display.HTML object>"
      ]
     },
     "metadata": {},
     "output_type": "display_data"
    }
   ],
   "source": [
    "%tensorboard --logdir=\"C:\\Users\\diego\\StatisticalLearning\\Practica2\\practica2-StadisticalLearning\\logs\" --port=6061"
   ]
  },
  {
   "cell_type": "code",
   "execution_count": 25,
   "metadata": {},
   "outputs": [
    {
     "data": {
      "image/jpeg": "[encoded data removed]",
      "text/plain": [
       "<IPython.core.display.Image object>"
      ]
     },
     "execution_count": 25,
     "metadata": {},
     "output_type": "execute_result"
    }
   ],
   "source": [
    "from IPython.display import Image\n",
    "Image(\"grafico.jpg\")"
   ]
  },
  {
   "cell_type": "markdown",
   "metadata": {},
   "source": [
    "Ahora se procederá a predecir la calidad _quality_ del vino con valor entre 0 y 10 con base en las 11 variables de entrada definidas."
   ]
  },
  {
   "cell_type": "code",
   "execution_count": 26,
   "metadata": {},
   "outputs": [
    {
     "data": {
      "image/jpeg": "[encoded data removed]",
      "text/plain": [
       "<IPython.core.display.Image object>"
      ]
     },
     "execution_count": 26,
     "metadata": {},
     "output_type": "execute_result"
    }
   ],
   "source": [
    "Image(\"grafos.jpg\")"
   ]
  },
  {
   "cell_type": "code",
   "execution_count": 17,
   "metadata": {},
   "outputs": [
    {
     "data": {
      "text/html": [
       "<div>\n",
       "<style scoped>\n",
       "    .dataframe tbody tr th:only-of-type {\n",
       "        vertical-align: middle;\n",
       "    }\n",
       "\n",
       "    .dataframe tbody tr th {\n",
       "        vertical-align: top;\n",
       "    }\n",
       "\n",
       "    .dataframe thead th {\n",
       "        text-align: right;\n",
       "    }\n",
       "</style>\n",
       "<table border=\"1\" class=\"dataframe\">\n",
       "  <thead>\n",
       "    <tr style=\"text-align: right;\">\n",
       "      <th></th>\n",
       "      <th>fixed acidity</th>\n",
       "      <th>volatile acidity</th>\n",
       "      <th>citric acid</th>\n",
       "      <th>residual sugar</th>\n",
       "      <th>chlorides</th>\n",
       "      <th>free sulfur dioxide</th>\n",
       "      <th>total sulfur dioxide</th>\n",
       "      <th>density</th>\n",
       "      <th>pH</th>\n",
       "      <th>sulphates</th>\n",
       "      <th>alcohol</th>\n",
       "      <th>quality</th>\n",
       "    </tr>\n",
       "  </thead>\n",
       "  <tbody>\n",
       "    <tr>\n",
       "      <td>0</td>\n",
       "      <td>7.4</td>\n",
       "      <td>0.70</td>\n",
       "      <td>0.00</td>\n",
       "      <td>1.9</td>\n",
       "      <td>0.076</td>\n",
       "      <td>11.0</td>\n",
       "      <td>34.0</td>\n",
       "      <td>0.9978</td>\n",
       "      <td>3.51</td>\n",
       "      <td>0.56</td>\n",
       "      <td>9.4</td>\n",
       "      <td>5</td>\n",
       "    </tr>\n",
       "    <tr>\n",
       "      <td>1</td>\n",
       "      <td>7.8</td>\n",
       "      <td>0.88</td>\n",
       "      <td>0.00</td>\n",
       "      <td>2.6</td>\n",
       "      <td>0.098</td>\n",
       "      <td>25.0</td>\n",
       "      <td>67.0</td>\n",
       "      <td>0.9968</td>\n",
       "      <td>3.20</td>\n",
       "      <td>0.68</td>\n",
       "      <td>9.8</td>\n",
       "      <td>5</td>\n",
       "    </tr>\n",
       "    <tr>\n",
       "      <td>2</td>\n",
       "      <td>7.8</td>\n",
       "      <td>0.76</td>\n",
       "      <td>0.04</td>\n",
       "      <td>2.3</td>\n",
       "      <td>0.092</td>\n",
       "      <td>15.0</td>\n",
       "      <td>54.0</td>\n",
       "      <td>0.9970</td>\n",
       "      <td>3.26</td>\n",
       "      <td>0.65</td>\n",
       "      <td>9.8</td>\n",
       "      <td>5</td>\n",
       "    </tr>\n",
       "    <tr>\n",
       "      <td>3</td>\n",
       "      <td>11.2</td>\n",
       "      <td>0.28</td>\n",
       "      <td>0.56</td>\n",
       "      <td>1.9</td>\n",
       "      <td>0.075</td>\n",
       "      <td>17.0</td>\n",
       "      <td>60.0</td>\n",
       "      <td>0.9980</td>\n",
       "      <td>3.16</td>\n",
       "      <td>0.58</td>\n",
       "      <td>9.8</td>\n",
       "      <td>6</td>\n",
       "    </tr>\n",
       "    <tr>\n",
       "      <td>4</td>\n",
       "      <td>7.4</td>\n",
       "      <td>0.70</td>\n",
       "      <td>0.00</td>\n",
       "      <td>1.9</td>\n",
       "      <td>0.076</td>\n",
       "      <td>11.0</td>\n",
       "      <td>34.0</td>\n",
       "      <td>0.9978</td>\n",
       "      <td>3.51</td>\n",
       "      <td>0.56</td>\n",
       "      <td>9.4</td>\n",
       "      <td>5</td>\n",
       "    </tr>\n",
       "  </tbody>\n",
       "</table>\n",
       "</div>"
      ],
      "text/plain": [
       "   fixed acidity  volatile acidity  citric acid  residual sugar  chlorides  \\\n",
       "0            7.4              0.70         0.00             1.9      0.076   \n",
       "1            7.8              0.88         0.00             2.6      0.098   \n",
       "2            7.8              0.76         0.04             2.3      0.092   \n",
       "3           11.2              0.28         0.56             1.9      0.075   \n",
       "4            7.4              0.70         0.00             1.9      0.076   \n",
       "\n",
       "   free sulfur dioxide  total sulfur dioxide  density    pH  sulphates  \\\n",
       "0                 11.0                  34.0   0.9978  3.51       0.56   \n",
       "1                 25.0                  67.0   0.9968  3.20       0.68   \n",
       "2                 15.0                  54.0   0.9970  3.26       0.65   \n",
       "3                 17.0                  60.0   0.9980  3.16       0.58   \n",
       "4                 11.0                  34.0   0.9978  3.51       0.56   \n",
       "\n",
       "   alcohol  quality  \n",
       "0      9.4        5  \n",
       "1      9.8        5  \n",
       "2      9.8        5  \n",
       "3      9.8        6  \n",
       "4      9.4        5  "
      ]
     },
     "execution_count": 17,
     "metadata": {},
     "output_type": "execute_result"
    }
   ],
   "source": [
    "datos.head()"
   ]
  },
  {
   "cell_type": "markdown",
   "metadata": {},
   "source": [
    "Se procede a generar un mapa de calor para entender mejor la correlación entre variables."
   ]
  },
  {
   "cell_type": "code",
   "execution_count": 18,
   "metadata": {},
   "outputs": [
    {
     "data": {
      "text/plain": [
       "<matplotlib.axes._subplots.AxesSubplot at 0x22d5c8edc08>"
      ]
     },
     "execution_count": 18,
     "metadata": {},
     "output_type": "execute_result"
    },
    {
     "data": {
      "image/png": "[encoded data removed]",
      "text/plain": [
       "<Figure size 432x288 with 2 Axes>"
      ]
     },
     "metadata": {
      "needs_background": "light"
     },
     "output_type": "display_data"
    }
   ],
   "source": [
    "import seaborn as sns\n",
    "\n",
    "correlacionMatematica = datos.corr()\n",
    "sns.heatmap(correlacionMatematica,cmap=\"BuPu\")"
   ]
  },
  {
   "cell_type": "markdown",
   "metadata": {},
   "source": [
    "Con base en el mapa de calor observado anteriormente, podemos observar que la relación entre variables que tienen tonalidades más oscuras es mayor.\n",
    "\n",
    "Aplicaremos ahora la función que nos permita entrenar los datos y predecir los datos."
   ]
  },
  {
   "cell_type": "code",
   "execution_count": 19,
   "metadata": {},
   "outputs": [
    {
     "name": "stdout",
     "output_type": "stream",
     "text": [
      "[[6.]\n",
      " [6.]\n",
      " [5.]\n",
      " [6.]\n",
      " [5.]\n",
      " [5.]\n",
      " [4.]\n",
      " [5.]\n",
      " [6.]\n",
      " [6.]\n",
      " [6.]\n",
      " [6.]\n",
      " [5.]\n",
      " [5.]\n",
      " [5.]\n",
      " [5.]\n",
      " [6.]\n",
      " [5.]\n",
      " [5.]\n",
      " [6.]\n",
      " [6.]\n",
      " [6.]\n",
      " [5.]\n",
      " [5.]\n",
      " [7.]\n",
      " [6.]\n",
      " [6.]\n",
      " [5.]\n",
      " [5.]\n",
      " [6.]\n",
      " [6.]\n",
      " [6.]\n",
      " [5.]\n",
      " [5.]\n",
      " [5.]\n",
      " [6.]\n",
      " [6.]\n",
      " [5.]\n",
      " [6.]\n",
      " [5.]\n",
      " [5.]\n",
      " [5.]\n",
      " [6.]\n",
      " [6.]\n",
      " [5.]\n",
      " [5.]\n",
      " [5.]\n",
      " [5.]\n",
      " [5.]\n",
      " [6.]\n",
      " [6.]\n",
      " [5.]\n",
      " [6.]\n",
      " [5.]\n",
      " [6.]\n",
      " [5.]\n",
      " [6.]\n",
      " [6.]\n",
      " [5.]\n",
      " [6.]\n",
      " [5.]\n",
      " [6.]\n",
      " [5.]\n",
      " [6.]\n",
      " [5.]\n",
      " [5.]\n",
      " [5.]\n",
      " [6.]\n",
      " [6.]\n",
      " [6.]\n",
      " [6.]\n",
      " [5.]\n",
      " [5.]\n",
      " [5.]\n",
      " [6.]\n",
      " [5.]\n",
      " [5.]\n",
      " [5.]\n",
      " [5.]\n",
      " [6.]\n",
      " [6.]\n",
      " [6.]\n",
      " [6.]\n",
      " [5.]\n",
      " [5.]\n",
      " [6.]\n",
      " [6.]\n",
      " [5.]\n",
      " [6.]\n",
      " [5.]\n",
      " [6.]\n",
      " [6.]\n",
      " [6.]\n",
      " [5.]\n",
      " [6.]\n",
      " [5.]\n",
      " [6.]\n",
      " [6.]\n",
      " [7.]\n",
      " [6.]\n",
      " [6.]\n",
      " [6.]\n",
      " [7.]\n",
      " [6.]\n",
      " [5.]\n",
      " [6.]\n",
      " [5.]\n",
      " [5.]\n",
      " [6.]\n",
      " [6.]\n",
      " [6.]\n",
      " [6.]\n",
      " [6.]\n",
      " [5.]\n",
      " [6.]\n",
      " [5.]\n",
      " [6.]\n",
      " [5.]\n",
      " [6.]\n",
      " [6.]\n",
      " [6.]\n",
      " [6.]\n",
      " [5.]\n",
      " [5.]\n",
      " [6.]\n",
      " [6.]\n",
      " [5.]\n",
      " [5.]\n",
      " [6.]\n",
      " [5.]\n",
      " [5.]\n",
      " [6.]\n",
      " [5.]\n",
      " [5.]\n",
      " [6.]\n",
      " [6.]\n",
      " [5.]\n",
      " [5.]\n",
      " [5.]\n",
      " [6.]\n",
      " [6.]\n",
      " [5.]\n",
      " [5.]\n",
      " [5.]\n",
      " [5.]\n",
      " [5.]\n",
      " [6.]\n",
      " [5.]\n",
      " [6.]\n",
      " [7.]\n",
      " [6.]\n",
      " [6.]\n",
      " [5.]\n",
      " [5.]\n",
      " [7.]\n",
      " [7.]\n",
      " [6.]\n",
      " [5.]\n",
      " [6.]\n",
      " [5.]]\n"
     ]
    }
   ],
   "source": [
    "x = datos[['quality']]\n",
    "y = datos[['fixed acidity','volatile acidity','citric acid','residual sugar','chlorides','free sulfur dioxide','total sulfur dioxide','density','pH','sulphates','alcohol']]\n",
    "\n",
    "entrenaX,pruebaX,entrenaY,pruebaY = train_test_split(x, y, test_size=0.1)\n",
    "\n",
    "modelo = linear_model.LinearRegression()\n",
    "modelo = modelo.fit(entrenaY, entrenaX)\n",
    "datosPredecidos = modelo.predict(pruebaY)\n",
    "datosPredecidos = np.round_(datosPredecidos)\n",
    "print(datosPredecidos)"
   ]
  },
  {
   "cell_type": "markdown",
   "metadata": {},
   "source": [
    "Ahora procedemos a mostrar el error entre datos y los datos predecidos."
   ]
  },
  {
   "cell_type": "code",
   "execution_count": 20,
   "metadata": {},
   "outputs": [
    {
     "name": "stdout",
     "output_type": "stream",
     "text": [
      "El error es de: 0.4125\n"
     ]
    }
   ],
   "source": [
    "print(\"El error es de:\" ,mean_squared_error(pruebaX,datosPredecidos))"
   ]
  },
  {
   "cell_type": "markdown",
   "metadata": {},
   "source": [
    "Por lo tanto se recomienda usando el principio de la navaja de Ockham que sólo se usen las variables que tienen una mayor correlación, siendo estas _fixed acidity_ y _alcohol_ como variables en este modelo."
   ]
  }
 ],
 "metadata": {
  "colab": {
   "collapsed_sections": [],
   "name": "Copia de Feature-Engineering.ipynb",
   "provenance": [
    {
     "file_id": "1sJV2HG7tQgCGKES3-dIclzHQJ9qAWB3b",
     "timestamp": 1589765536492
    }
   ]
  },
  "kernelspec": {
   "display_name": "Python 3",
   "language": "python",
   "name": "python3"
  },
  "language_info": {
   "codemirror_mode": {
    "name": "ipython",
    "version": 3
   },
   "file_extension": ".py",
   "mimetype": "text/x-python",
   "name": "python",
   "nbconvert_exporter": "python",
   "pygments_lexer": "ipython3",
   "version": "3.7.4"
  }
 },
 "nbformat": 4,
 "nbformat_minor": 1
}
